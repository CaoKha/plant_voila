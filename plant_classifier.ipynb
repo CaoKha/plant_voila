{
 "cells": [
  {
   "cell_type": "code",
   "execution_count": 1,
   "metadata": {},
   "outputs": [],
   "source": [
    "from fastai.vision.all import *\n",
    "from fastai.vision.widgets import *\n",
    "import urllib.request\n",
    "import re"
   ]
  },
  {
   "cell_type": "markdown",
   "metadata": {},
   "source": [
    "# <center><span style=\"font-family:Monospace;color:black\"><b> THE SUGARBEET CLASSIFIER </b></span></center>"
   ]
  },
  {
   "cell_type": "markdown",
   "metadata": {},
   "source": [
    "## <font color=grey><b>PICTURE FROM URL</b></font>\n",
    "Put the URL that link to the sugarbeet image of your choice into the URL box. The result will appear from below after a few seconds.<br>\n",
    "Moreover, you can also using the images from the sample set."
   ]
  },
  {
   "cell_type": "code",
   "execution_count": null,
   "metadata": {},
   "outputs": [],
   "source": [
    "import urllib.request\n",
    "\n",
    "MODEL_URL = \"https://www.dropbox.com/s/2ycgds04rgix179/model.pkl?dl=1\"\n",
    "urllib.request.urlretrieve(MODEL_URL, \"model.pkl\")\n",
    "learn_inf = load_learner(Path(\".\"), \"model.pkl\")"
   ]
  },
  {
   "cell_type": "code",
   "execution_count": 2,
   "metadata": {},
   "outputs": [],
   "source": [
    "# path = Path()\n",
    "# learn_inf = load_learner(path/'model.pkl', cpu=True)"
   ]
  },
  {
   "cell_type": "code",
   "execution_count": 73,
   "metadata": {
    "tags": []
   },
   "outputs": [],
   "source": [
    "def classify(url):\n",
    "    urllib.request.urlretrieve(url,\"image.jpg\")\n",
    "    img = PILImage.create(\"image.jpg\")\n",
    "\n",
    "    pred,pred_idx,probs = learn_inf.predict(img)\n",
    "    return pred, probs[pred_idx].tolist(), probs\n",
    "\n",
    "#Test\n",
    "# link = \"https://www.dropbox.com/s/gx7aq2eyrt0l5s5/Agrostemma-githago_Foliage_Substrat3_28022020%20%2873%29.JPG?raw=1\"\n",
    "# answer = classify(link)\n",
    "# print(answer)"
   ]
  },
  {
   "cell_type": "code",
   "execution_count": 65,
   "metadata": {},
   "outputs": [],
   "source": [
    "\n",
    "def classify_on_click(btn):\n",
    "    htmlResult.value = \"Analysing\" \n",
    "    is_valid = display_image(txtURL.value)\n",
    "    if is_valid:\n",
    "        try:\n",
    "            classify(txtURL.value)\n",
    "        except Exception as e:\n",
    "            htmlResult.value = \"URL is not an image!\"\n",
    "            return None\n",
    "        pred_class,probility,_= classify(txtURL.value)\n",
    "        tree_type = re.search(r'.+?(?=_)',pred_class).group()\n",
    "        growth_stage = re.search(r'(?<=_)[\\w+.-]+',pred_class).group()\n",
    "        html = \"<p style='font-family:Arial;font-size:110%;text-align:center'>Plant type: <b>\" + tree_type + \"</b>, \" + \"growth stage: <b>\" + growth_stage + \"</b>, \" + \"probability: <b>\" + \"{:1.2f}\".format(probility*100) + \"</b> %</p>\"\n",
    "        htmlResult.value = html\n",
    "    else:\n",
    "        htmlResult.value = \"Invalid URL! Please try again.\"\n",
    "    \n",
    "\n",
    "# # Test\n",
    "# ex = 'Crepis-setosa_Foliage'\n",
    "# tree_type = re.search(r'.+?(?=_)',ex).group()\n",
    "# growth_stage = re.search(r'(?<=_)[\\w+.-]+',ex).group()\n",
    "# tree_type, growth_stage\n",
    "# pred_class,probility,_=classify(txtURL.value)\n",
    "# pred_class,probility\n",
    "# <img id=\"currentPhoto\" src=\"SomeImage.jpg\" onerror=\"this.onerror=null; this.src='Default.jpg'\" alt=\"\" width=\"100\" height=\"120\">\n"
   ]
  },
  {
   "cell_type": "code",
   "execution_count": 66,
   "metadata": {},
   "outputs": [],
   "source": [
    "def display_image(url):\n",
    "    htmlImage.value= \"<img src='\" + url + \"'width='300'>\"\n",
    "    try:\n",
    "        requests.get(url)\n",
    "    except Exception as e:\n",
    "        print(\"error:\", e)\n",
    "        return False\n",
    "    return True\n",
    "    \n",
    "# test = display_image('https://www.w3schools.com/colors/colors_names.asp')\n",
    "# test"
   ]
  },
  {
   "cell_type": "code",
   "execution_count": 67,
   "metadata": {},
   "outputs": [],
   "source": [
    "btn_upload = widgets.FileUpload()\n",
    "out_pl = widgets.Output()\n",
    "lbl_pred = widgets.HTML()"
   ]
  },
  {
   "cell_type": "code",
   "execution_count": 68,
   "metadata": {},
   "outputs": [],
   "source": [
    "def example_on_click(btn):\n",
    "  txtURL.value = btn.tag\n",
    "  classify_on_click(btnClassify)\n"
   ]
  },
  {
   "cell_type": "code",
   "execution_count": 69,
   "metadata": {},
   "outputs": [],
   "source": [
    "def create_example(url):\n",
    "  img = widgets.HTML(\"<img src='\" + url + \"' height='100'>\")\n",
    "  btn = widgets.Button(description=\"Test\")\n",
    "  btn.tag = url\n",
    "  btn.on_click(example_on_click)\n",
    "  vbox = widgets.VBox([img,btn])\n",
    "  vbox.layout.align_items = \"center\"\n",
    "  return vbox"
   ]
  },
  {
   "cell_type": "code",
   "execution_count": 70,
   "metadata": {},
   "outputs": [],
   "source": [
    "def on_data_change(change):\n",
    "    lbl_pred.value =\"Analysing\" \n",
    "    [file] = btn_upload.metadata\n",
    "    if (file[\"type\"] == \"image/jpeg\") or (file[\"type\"] == \"image/png\"):\n",
    "        img = PILImage.create(btn_upload.data[-1])\n",
    "        out_pl.clear_output()\n",
    "        with out_pl: display(img.to_thumb(300,300))\n",
    "        pred,pred_idx,probs = learn_inf.predict(img)\n",
    "        tree_type = re.search(r'.+?(?=_)',pred).group()\n",
    "        growth_stage = re.search(r'(?<=_)[\\w+.-]+',pred).group()\n",
    "        lbl_pred.value = \"<p style='font-family:Arial;font-size:110%;'>Plant type: <b>\" + tree_type+ \"</b>, growth stage: <b>\" + growth_stage + \"</b>, probability: <b>\" + f'{probs[pred_idx]*100:1.2f}' +\"</b> %</p>\"        \n",
    "    else:\n",
    "        out_pl.clear_output()\n",
    "        lbl_pred.value = \"Image file extension should be .jpg, .jpeg or .png. Please choose another file!\""
   ]
  },
  {
   "cell_type": "code",
   "execution_count": 71,
   "metadata": {},
   "outputs": [],
   "source": [
    "btn_upload.observe(on_data_change, names=['data'])"
   ]
  },
  {
   "cell_type": "code",
   "execution_count": 72,
   "metadata": {
    "scrolled": false
   },
   "outputs": [
    {
     "data": {
      "application/vnd.jupyter.widget-view+json": {
       "model_id": "b3bf797b5d744361b97d29aa6fc6a93d",
       "version_major": 2,
       "version_minor": 0
      },
      "text/plain": [
       "VBox(children=(HTML(value=''), HBox(children=(Text(value='', description='URL:', layout=Layout(width='500px'),…"
      ]
     },
     "metadata": {},
     "output_type": "display_data"
    }
   ],
   "source": [
    "DEFAULT_IMG = \"https://www.dropbox.com/s/gx7aq2eyrt0l5s5/Agrostemma-githago_Foliage_Substrat3_28022020%20%2873%29.JPG?raw=1\"\n",
    "\n",
    "htmlImage = widgets.HTML(value=\"\")\n",
    "# display_image(DEFAULT_IMG)\n",
    "\n",
    "txtURL = widgets.Text(description=\"URL:\", placeholder=\" Enter the URL of a sugarbeet plant picture\")\n",
    "txtURL.layout.width = \"500px\"\n",
    "btnClassify = widgets.Button(description=\"Classify\")\n",
    "btnClassify.on_click(classify_on_click)\n",
    "boxH = widgets.HBox([txtURL, btnClassify])\n",
    "\n",
    "htmlResult = widgets.HTML(value=\"\")\n",
    "# htmlResult.layout.margin = \"0px 0px 0px 0px\"\n",
    "HBox([htmlResult])\n",
    "\n",
    "\n",
    "boxV = widgets.VBox([htmlImage, boxH, htmlResult])\n",
    "boxV.layout.align_items = \"center\"\n",
    "display(boxV)"
   ]
  },
  {
   "cell_type": "markdown",
   "metadata": {},
   "source": [
    "## <font color=grey><b>PICTURE FROM YOUR COMPUTER</b></font>\n",
    "Click on the upload button. Select your picture to upload. The result will appear from below after a few seconds. "
   ]
  },
  {
   "cell_type": "code",
   "execution_count": 39,
   "metadata": {
    "scrolled": true
   },
   "outputs": [
    {
     "data": {
      "application/vnd.jupyter.widget-view+json": {
       "model_id": "8ac895a6ac94480cb6a2bb574713d7c7",
       "version_major": 2,
       "version_minor": 0
      },
      "text/plain": [
       "VBox(children=(Output(), FileUpload(value={}, description='Upload'), HTML(value='')), layout=Layout(align_item…"
      ]
     },
     "metadata": {},
     "output_type": "display_data"
    }
   ],
   "source": [
    "my_box = VBox([out_pl, btn_upload,  lbl_pred])\n",
    "my_box.layout.align_items = \"center\"\n",
    "display(my_box)"
   ]
  },
  {
   "cell_type": "markdown",
   "metadata": {},
   "source": [
    "SAMPLES:"
   ]
  },
  {
   "cell_type": "code",
   "execution_count": 13,
   "metadata": {
    "scrolled": false
   },
   "outputs": [
    {
     "data": {
      "application/vnd.jupyter.widget-view+json": {
       "model_id": "5863a0c1871a4c90a5f0065d0892bd7c",
       "version_major": 2,
       "version_minor": 0
      },
      "text/plain": [
       "GridBox(children=(VBox(children=(HTML(value=\"<img src='https://www.dropbox.com/s/c3gmm8b08v821qu/Crepis-setosa…"
      ]
     },
     "metadata": {},
     "output_type": "display_data"
    },
    {
     "data": {
      "text/html": [],
      "text/plain": [
       "<IPython.core.display.HTML object>"
      ]
     },
     "metadata": {},
     "output_type": "display_data"
    },
    {
     "data": {
      "text/html": [],
      "text/plain": [
       "<IPython.core.display.HTML object>"
      ]
     },
     "metadata": {},
     "output_type": "display_data"
    }
   ],
   "source": [
    "urls = [\n",
    "    \"https://www.dropbox.com/s/c3gmm8b08v821qu/Crepis-setosa_Foliage_Substrat1_17022020%20%281%29.JPG?raw=1\",\n",
    "    \"https://www.dropbox.com/s/1t3enu6vjbxr1zr/Agrostemma-githago_Cotyledon_Substrat3_12022020%20%28258%29.JPG?raw=1\",\n",
    "    \"https://www.dropbox.com/s/gx7aq2eyrt0l5s5/Agrostemma-githago_Foliage_Substrat3_28022020%20%2873%29.JPG?raw=1\",\n",
    "    \"https://www.dropbox.com/s/8rd35rn1aj5mxe1/Agrostemma-githago_Foliage_Substrat3_28022020%20%28216%29.JPG?raw=1\", \n",
    "    \"https://www.dropbox.com/s/h8256ag2hwssdui/Agrostemma-githago_Intermediate_Substrat3_19022020%20%2829%29.JPG?raw=1\",\n",
    "    \"https://www.dropbox.com/s/zh5ps93g1xdl5po/Agrostemma-githago_Intermediate_Substrat3_19022020%20%2863%29.JPG?raw=1\",\n",
    "    \"https://www.dropbox.com/s/1ilv2qazazsk9q3/Beta-vulgaris_Cotyledon_Substrat1_07102019%20%289%29.JPG?raw=1\", \n",
    "    \"https://www.dropbox.com/s/slx8ss6a0ogbdix/Beta-vulgaris_Intermediate_Substrat1_01092019%20%2851%29.JPG?raw=1\",\n",
    "    'https://www.dropbox.com/s/jvtt2mzegn63jhb/Crepis-setosa_Intermediate_Substrat1_05022020%20%281%29.JPG?raw=1',\n",
    "    'https://www.dropbox.com/s/kvwzmsc6nr9xsv5/Beta-vulgaris_Foliage_Substrat1_04112019%20%2817%29.JPG?raw=1',\n",
    "#   \"https://www.dropbox.com/s/wrl6ehdivktfz3p/Agrostemma-githago_Cotyledon_Substrat3_12022020%20%28229%29.JPG?raw=1\"\n",
    "  ]\n",
    "\n",
    "items = []\n",
    "for url in urls:\n",
    "    items.append(create_example(url))\n",
    "\n",
    "grid = widgets.GridBox(items, layout=widgets.Layout(grid_template_columns=\"repeat(10,10%)\"))\n",
    "display(grid)"
   ]
  },
  {
   "cell_type": "markdown",
   "metadata": {},
   "source": [
    "<div class=\"alert alert-block alert-warning\">\n",
    "<b>Note:</b> We are working on object detection. If you upload a picture which is unrelated. The result won't be filtered! </div>"
   ]
  },
  {
   "cell_type": "markdown",
   "metadata": {},
   "source": []
  }
 ],
 "metadata": {
  "jupytext": {
   "split_at_heading": true
  },
  "kernelspec": {
   "display_name": "conda_python3",
   "language": "python",
   "name": "conda_python3"
  },
  "language_info": {
   "codemirror_mode": {
    "name": "ipython",
    "version": 3
   },
   "file_extension": ".py",
   "mimetype": "text/x-python",
   "name": "python",
   "nbconvert_exporter": "python",
   "pygments_lexer": "ipython3",
   "version": "3.6.10"
  },
  "toc": {
   "base_numbering": 1,
   "nav_menu": {},
   "number_sections": false,
   "sideBar": true,
   "skip_h1_title": true,
   "title_cell": "Table of Contents",
   "title_sidebar": "Contents",
   "toc_cell": false,
   "toc_position": {},
   "toc_section_display": true,
   "toc_window_display": false
  }
 },
 "nbformat": 4,
 "nbformat_minor": 2
}
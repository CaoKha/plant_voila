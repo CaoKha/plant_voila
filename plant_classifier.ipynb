{
 "cells": [
  {
   "cell_type": "code",
   "execution_count": 2,
   "metadata": {},
   "outputs": [],
   "source": [
    "from fastai.vision.all import *\n",
    "from fastai.vision.widgets import *\n",
    "import urllib.request\n",
    "import re"
   ]
  },
  {
   "cell_type": "markdown",
   "metadata": {},
   "source": [
    "# <center> The Plant Classifier </center>"
   ]
  },
  {
   "source": [
    "# I. Classify with URL link"
   ],
   "cell_type": "markdown",
   "metadata": {}
  },
  {
   "cell_type": "code",
   "execution_count": 3,
   "metadata": {},
   "outputs": [],
   "source": [
    "path = Path()\n",
    "learn_inf = load_learner(path/'model.pkl', cpu=True)"
   ]
  },
  {
   "cell_type": "code",
   "execution_count": 4,
   "metadata": {
    "tags": []
   },
   "outputs": [],
   "source": [
    "def classify(url):\n",
    "    urllib.request.urlretrieve(url,\"image.jpg\")\n",
    "    img = PILImage.create(\"image.jpg\")\n",
    "\n",
    "    pred,pred_idx,probs = learn_inf.predict(img)\n",
    "    return pred, probs[pred_idx].tolist(), probs\n",
    "\n",
    "#Test\n",
    "# link = \"https://www.dropbox.com/s/gx7aq2eyrt0l5s5/Agrostemma-githago_Foliage_Substrat3_28022020%20%2873%29.JPG?raw=1\"\n",
    "# answer = classify(link)\n",
    "# print(answer)\n"
   ]
  },
  {
   "cell_type": "code",
   "execution_count": 30,
   "metadata": {},
   "outputs": [],
   "source": [
    "def classify_on_click(btn):\n",
    "    htmlResult.value = \"<h3>                                Analysing </h3>\"\n",
    "    display_image(txtURL.value)\n",
    "    pred_class,probility,_=classify(txtURL.value)\n",
    "    tree_type = re.search(r'.+?(?=_)',pred_class).group()\n",
    "    growth_stage = re.search(r'(?<=_)[\\w+.-]+',pred_class).group()\n",
    "    html = \"<p style='font-family:Arial;font-size:110%;text-align:center'>Plant type: <b>\" + tree_type + \"</b><br>\" + \"Growth stage: <b>\" + growth_stage + \"</b><br>\" + \"Probability: <b>\" + \"{:1.2f}\".format(probility*100) + \"</b> %</p>\"\n",
    "    htmlResult.value = html\n",
    "\n",
    "# # Test\n",
    "# ex = 'Crepis-setosa_Foliage'\n",
    "# tree_type = re.search(r'.+?(?=_)',ex).group()\n",
    "# growth_stage = re.search(r'(?<=_)[\\w+.-]+',ex).group()\n",
    "# tree_type, growth_stage\n",
    "# pred_class,probility,_=classify(txtURL.value)\n",
    "# pred_class,probility"
   ]
  },
  {
   "cell_type": "code",
   "execution_count": 31,
   "metadata": {},
   "outputs": [],
   "source": [
    "def display_image(url):\n",
    "    htmlImage.value= \"<img src='\" + url + \"'width='500'>\"\n"
   ]
  },
  {
   "cell_type": "code",
   "execution_count": 32,
   "metadata": {},
   "outputs": [],
   "source": [
    "btn_upload = widgets.FileUpload()\n",
    "out_pl = widgets.Output()\n",
    "lbl_pred = widgets.HTML()"
   ]
  },
  {
   "cell_type": "code",
   "execution_count": 33,
   "metadata": {},
   "outputs": [],
   "source": [
    "def example_on_click(btn):\n",
    "  txtURL.value = btn.tag\n",
    "  classify_on_click(btnClassify)\n"
   ]
  },
  {
   "cell_type": "code",
   "execution_count": 34,
   "metadata": {},
   "outputs": [],
   "source": [
    "def create_example(url):\n",
    "  img = widgets.HTML(\"<img src='\" + url + \"' height='300'>\")\n",
    "  btn = widgets.Button(description=\"Test\")\n",
    "  btn.tag = url\n",
    "  btn.on_click(example_on_click)\n",
    "  vbox = widgets.VBox([img,btn])\n",
    "  vbox.layout.align_items = \"center\"\n",
    "  return vbox"
   ]
  },
  {
   "cell_type": "code",
   "execution_count": 35,
   "metadata": {},
   "outputs": [],
   "source": [
    "def on_data_change(change):\n",
    "    lbl_pred.value = ''\n",
    "    img = PILImage.create(btn_upload.data[-1])\n",
    "    out_pl.clear_output()\n",
    "    with out_pl: display(img.to_thumb(500,500))\n",
    "    pred,pred_idx,probs = learn_inf.predict(img)\n",
    "    tree_type = re.search(r'.+?(?=_)',pred).group()\n",
    "    growth_stage = re.search(r'(?<=_)[\\w+.-]+',pred).group()\n",
    "    lbl_pred.value = \"<p style='font-family:Arial;font-size:110%;'>Plant type: <b>\" + tree_type+ \"</b><br>\" \"Growth stage: <b>\" + growth_stage + \"</b><br>\" + \"Probability: <b>\" + f'{probs[pred_idx]*100:1.2f}' +\"</b> %</p>\" "
   ]
  },
  {
   "cell_type": "code",
   "execution_count": 36,
   "metadata": {},
   "outputs": [],
   "source": [
    "btn_upload.observe(on_data_change, names=['data'])"
   ]
  },
  {
   "cell_type": "code",
   "execution_count": 41,
   "metadata": {},
   "outputs": [
    {
     "output_type": "display_data",
     "data": {
      "text/plain": "VBox(children=(HTML(value=\"<img src='https://www.dropbox.com/s/gx7aq2eyrt0l5s5/Agrostemma-githago_Foliage_Subs…",
      "application/vnd.jupyter.widget-view+json": {
       "version_major": 2,
       "version_minor": 0,
       "model_id": "50d6521a586948bab56ce5c6bddb22a5"
      }
     },
     "metadata": {}
    }
   ],
   "source": [
    "DEFAULT_IMG = \"https://www.dropbox.com/s/gx7aq2eyrt0l5s5/Agrostemma-githago_Foliage_Substrat3_28022020%20%2873%29.JPG?raw=1\"\n",
    "\n",
    "htmlImage = widgets.HTML(value=\"\")\n",
    "display_image(DEFAULT_IMG)\n",
    "\n",
    "txtURL = widgets.Text(description=\"URL:\", placeholder=\" Enter the URL of a sugarbeet plant picture\")\n",
    "txtURL.layout.width = \"500px\"\n",
    "btnClassify = widgets.Button(description=\"Classify\")\n",
    "btnClassify.on_click(classify_on_click)\n",
    "boxH = widgets.HBox([txtURL, btnClassify])\n",
    "\n",
    "htmlResult = widgets.HTML(value=\"\")\n",
    "# htmlResult.layout.margin = \"0px 0px 0px 0px\"\n",
    "HBox([htmlResult])\n",
    "\n",
    "\n",
    "boxV = widgets.VBox([htmlImage, boxH, htmlResult])\n",
    "boxV.layout.align_items = \"center\"\n",
    "display(boxV)"
   ]
  },
  {
   "source": [
    "### Testing samples:"
   ],
   "cell_type": "markdown",
   "metadata": {}
  },
  {
   "cell_type": "code",
   "execution_count": 38,
   "metadata": {},
   "outputs": [
    {
     "output_type": "display_data",
     "data": {
      "text/plain": "GridBox(children=(VBox(children=(HTML(value=\"<img src='https://www.dropbox.com/s/wrl6ehdivktfz3p/Agrostemma-gi…",
      "application/vnd.jupyter.widget-view+json": {
       "version_major": 2,
       "version_minor": 0,
       "model_id": "c2c93bd2964f4da88de82fe6818b4f27"
      }
     },
     "metadata": {}
    }
   ],
   "source": [
    "urls = [\n",
    "  \"https://www.dropbox.com/s/wrl6ehdivktfz3p/Agrostemma-githago_Cotyledon_Substrat3_12022020%20%28229%29.JPG?raw=1\", \n",
    "  \"https://www.dropbox.com/s/1t3enu6vjbxr1zr/Agrostemma-githago_Cotyledon_Substrat3_12022020%20%28258%29.JPG?raw=1\",\n",
    "  \"https://www.dropbox.com/s/gx7aq2eyrt0l5s5/Agrostemma-githago_Foliage_Substrat3_28022020%20%2873%29.JPG?raw=1\",\n",
    "  \"https://www.dropbox.com/s/8rd35rn1aj5mxe1/Agrostemma-githago_Foliage_Substrat3_28022020%20%28216%29.JPG?raw=1\", \n",
    "  \"https://www.dropbox.com/s/h8256ag2hwssdui/Agrostemma-githago_Intermediate_Substrat3_19022020%20%2829%29.JPG?raw=1\",\n",
    "  \"https://www.dropbox.com/s/zh5ps93g1xdl5po/Agrostemma-githago_Intermediate_Substrat3_19022020%20%2863%29.JPG?raw=1\",\n",
    "  \"https://www.dropbox.com/s/1ilv2qazazsk9q3/Beta-vulgaris_Cotyledon_Substrat1_07102019%20%289%29.JPG?raw=1\", \n",
    "  \"https://www.dropbox.com/s/slx8ss6a0ogbdix/Beta-vulgaris_Intermediate_Substrat1_01092019%20%2851%29.JPG?raw=1\", \n",
    "  \"https://www.dropbox.com/s/c3gmm8b08v821qu/Crepis-setosa_Foliage_Substrat1_17022020%20%281%29.JPG?raw=1\"\n",
    "  ]\n",
    "\n",
    "items = []\n",
    "for url in urls:\n",
    "    items.append(create_example(url))\n",
    "\n",
    "grid = widgets.GridBox(items, layout=widgets.Layout(grid_template_columns=\"repeat(3,33% )\"))\n",
    "display(grid)"
   ]
  },
  {
   "source": [
    "# II. Classify by uploading images from your computer"
   ],
   "cell_type": "markdown",
   "metadata": {}
  },
  {
   "cell_type": "code",
   "execution_count": 14,
   "metadata": {
    "scrolled": false
   },
   "outputs": [
    {
     "output_type": "display_data",
     "data": {
      "text/plain": "VBox(children=(Label(value='Select your plant!'), Output(), FileUpload(value={}, description='Upload'), HTML(v…",
      "application/vnd.jupyter.widget-view+json": {
       "version_major": 2,
       "version_minor": 0,
       "model_id": "6f72103b6d0c4f7cb26364206d48e714"
      }
     },
     "metadata": {}
    }
   ],
   "source": [
    "\n",
    "my_box = VBox([widgets.Label('Select your plant!'), out_pl, btn_upload,  lbl_pred])\n",
    "my_box.layout.align_items = \"center\"\n",
    "display(my_box)"
   ]
  }
 ],
 "metadata": {
  "jupytext": {
   "split_at_heading": true
  },
  "kernelspec": {
   "display_name": "Python 3.8.5 64-bit ('sugarbeet': conda)",
   "language": "python",
   "name": "python38564bitsugarbeetconda34d26c6e14c840878f0cb339d776afb3"
  },
  "language_info": {
   "codemirror_mode": {
    "name": "ipython",
    "version": 3
   },
   "file_extension": ".py",
   "mimetype": "text/x-python",
   "name": "python",
   "nbconvert_exporter": "python",
   "pygments_lexer": "ipython3",
   "version": "3.8.5-final"
  },
  "toc": {
   "base_numbering": 1,
   "nav_menu": {},
   "number_sections": false,
   "sideBar": true,
   "skip_h1_title": true,
   "title_cell": "Table of Contents",
   "title_sidebar": "Contents",
   "toc_cell": false,
   "toc_position": {},
   "toc_section_display": true,
   "toc_window_display": false
  }
 },
 "nbformat": 4,
 "nbformat_minor": 2
}